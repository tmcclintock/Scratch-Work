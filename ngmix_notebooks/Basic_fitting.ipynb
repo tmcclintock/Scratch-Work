{
 "cells": [
  {
   "cell_type": "markdown",
   "metadata": {},
   "source": [
    "# Basic fitting\n",
    "In this example we will make a simulated gaussian mixture, convolve it with a PSF and then render a simulated image."
   ]
  },
  {
   "cell_type": "code",
   "execution_count": 1,
   "metadata": {
    "collapsed": true
   },
   "outputs": [],
   "source": [
    "#Necessary imports\n",
    "import ngmix\n",
    "from ngmix.observation import Observation, ObsList, MultiBandObsList\n",
    "from ngmix.fitting import LMSimple\n",
    "import numpy\n",
    "from numpy import array\n",
    "from numpy.random import uniform as urand\n",
    "#A constant that we need\n",
    "eps=0.01\n",
    "#Set a seed for the RNG\n",
    "numpy.random.seed(8381)"
   ]
  },
  {
   "cell_type": "code",
   "execution_count": null,
   "metadata": {
    "collapsed": true
   },
   "outputs": [],
   "source": []
  }
 ],
 "metadata": {
  "kernelspec": {
   "display_name": "Python 2",
   "language": "python",
   "name": "python2"
  },
  "language_info": {
   "codemirror_mode": {
    "name": "ipython",
    "version": 2
   },
   "file_extension": ".py",
   "mimetype": "text/x-python",
   "name": "python",
   "nbconvert_exporter": "python",
   "pygments_lexer": "ipython2",
   "version": "2.7.12"
  }
 },
 "nbformat": 4,
 "nbformat_minor": 0
}
