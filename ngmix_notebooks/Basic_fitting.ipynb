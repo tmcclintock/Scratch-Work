{
 "cells": [
  {
   "cell_type": "markdown",
   "metadata": {},
   "source": [
    "# Basic fitting\n",
    "Here we use ngmix to make a simulated gaussian mixture, convolve it with a PSF and then render the simulated image."
   ]
  },
  {
   "cell_type": "code",
   "execution_count": null,
   "metadata": {
    "collapsed": false
   },
   "outputs": [],
   "source": [
    "# necessary imports\n",
    "import ngmix\n",
    "from ngmix.observation import Observation, ObsList, MultiBandObsList\n",
    "from ngmix.fitting import LMSimple\n",
    "import numpy\n",
    "from numpy import array\n",
    "from numpy.random import uniform as urand"
   ]
  },
  {
   "cell_type": "code",
   "execution_count": null,
   "metadata": {
    "collapsed": true
   },
   "outputs": [],
   "source": [
    "# eps is a constant that we need and represents 1% accuracy\n",
    "eps = 0.01\n",
    "# Seed the RNG\n",
    "numpy.random.seed(8381)"
   ]
  },
  {
   "cell_type": "markdown",
   "metadata": {},
   "source": [
    "ngmix is designed to work on multiple images simultaneously, and we always fit in \"sky coordinates\". We do this by makng a jacobian to represent the transformation, and make sure the center is at our best guess of the object location. In this case we make a unit jacobian. For non-unit jacobians see the ngmix.Jacobian class."
   ]
  },
  {
   "cell_type": "code",
   "execution_count": null,
   "metadata": {
    "collapsed": true
   },
   "outputs": [],
   "source": [
    "gal_jacob = ngmix.UnitJacobian(row = 16.0, col = 16.0)\n",
    "psf_jacob = ngmix.UnitJacobian(row = 12.0, col = 12.0)"
   ]
  },
  {
   "cell_type": "markdown",
   "metadata": {},
   "source": [
    "Now set the parameters of the gaussian mixture. These parameters correspond to [cen1, cen2, g1, g2, T, flux].\n",
    "\n",
    "Note: T = ixx+iyy, and the center corresponds to an offset relative to the jacobian center. For no offset, use cen1 = cen2 = 0."
   ]
  },
  {
   "cell_type": "code",
   "execution_count": null,
   "metadata": {
    "collapsed": true
   },
   "outputs": [],
   "source": [
    "# Object is an exponential disk approximated by gaussians.\n",
    "pars  = [0.0, 0.0, 0.2, -0.1, 16.0, 100.0]\n",
    "gmix0 = ngmix.GMixModel(pars, \"exp\")\n",
    "# PSF is a single gaussian\n",
    "psf_pars = [0.0, 0.0, -0.03, 0.02, 4.0, 1.0]\n",
    "psf_gmix = ngmix.GMixModel(psf_pars, \"gauss\")\n",
    "# Convolve the two\n",
    "gmix = gmix0.convolve(psf_gmix)"
   ]
  },
  {
   "cell_type": "markdown",
   "metadata": {},
   "source": [
    "Now we can begin to render the image."
   ]
  },
  {
   "cell_type": "code",
   "execution_count": null,
   "metadata": {
    "collapsed": false
   },
   "outputs": [],
   "source": [
    "dimensions = [32, 32]\n",
    "image0 = gmix.make_image(dimensions, npoints=10, jacobian=gal_jacob)\n",
    "psf_dimensions = [24, 24]\n",
    "psf_image = psf_gmix.make_image(psf_dimensions, npoints=10, jacobian=psf_jacob)\n",
    "# Add noise to the galaxy image\n",
    "sigma = 0.01\n",
    "noise = numpy.random.normal(scale = sigma, size = image0.shape)\n",
    "image = image0 + noise"
   ]
  },
  {
   "cell_type": "markdown",
   "metadata": {},
   "source": [
    "With the image created, we can fit the PSF using a maximum likelihood fitter. We use the Levenberg-Marquardt (LM) method."
   ]
  },
  {
   "cell_type": "code",
   "execution_count": null,
   "metadata": {
    "collapsed": false
   },
   "outputs": [],
   "source": [
    "# Make an observation of the psf image\n",
    "psf_obs = Observation(psf_image, jacobian=psf_jacob)\n",
    "# We use a 'simple' model fit with 6 parameters.\n",
    "# For simplicity we will guess these parameters before pixelization\n",
    "pfitter = LMSimple(psf_obs, \"gauss\")\n",
    "guess = array(psf_pars)\n",
    "guess[0] += urand(low=-eps, high=eps)\n",
    "guess[1] += urand(low=-eps, high=eps)\n",
    "guess[2] += urand(low=-eps, high=eps)\n",
    "guess[3] += urand(low=-eps, high=eps)\n",
    "guess[4] *= (1.0 + urand(low=-eps, high=eps))\n",
    "guess[5] *= (1.0 + urand(low=-eps, high=eps))\n",
    "# Kick off the fitter and get out the mixture of the fit\n",
    "pfitter.go(guess)\n",
    "psf_gmix_fit = pfitter.get_gmix()\n",
    "# Set the mixture to the observation. This is needed for galaxy fitting later.\n",
    "psf_obs.set_gmix(psf_gmix_fit)"
   ]
  },
  {
   "cell_type": "markdown",
   "metadata": {},
   "source": [
    "Now we can fit the galaxy. We set the weight image for the fit, which can in principle be a complex map. Thus, the Observation for the image is comprised of the image, the weight map, and the psf observation."
   ]
  },
  {
   "cell_type": "code",
   "execution_count": null,
   "metadata": {
    "collapsed": true
   },
   "outputs": [],
   "source": [
    "weight = numpy.zeros(image.shape) + 1.0/sigma**2\n",
    "obs = Observation(image, weight=weight, jacobian = gal_jacob, psf = psf_obs)\n",
    "fitter = LMSimple(obs, \"exp\")\n",
    "guess = array(pars)\n",
    "guess[0] += urand(low=-eps, high=eps)\n",
    "guess[1] += urand(low=-eps, high=eps)\n",
    "guess[2] += urand(low=-eps, high=eps)\n",
    "guess[3] += urand(low=-eps, high=eps)\n",
    "guess[4] *= (1.0 + urand(low=-eps, high=eps))\n",
    "guess[5] *= (1.0 + urand(low=-eps, high=eps))\n",
    "# kick off the fitter and get out the result of the fit\n",
    "fitter.go(guess)\n",
    "result = fitter.get_result()"
   ]
  },
  {
   "cell_type": "code",
   "execution_count": null,
   "metadata": {
    "collapsed": false
   },
   "outputs": [],
   "source": [
    "# Print the results\n",
    "ngmix.print_pars(pars, front=\"truth: \")\n",
    "ngmix.print_pars(result[\"pars\"], front=\"meas: \")\n",
    "ngmix.print_pars(result[\"pars_err\"], front=\"err: \")"
   ]
  },
  {
   "cell_type": "markdown",
   "metadata": {},
   "source": [
    "## Fitting multiple objects\n",
    "We can also simultaneously fit multiple objects. In this example we will fit the same object many times by creating an ObsList, appending objects to it, and then fitting them all with the LMSimple model. In addition, we can also have MultiBandObsList, and fit all bands at once."
   ]
  },
  {
   "cell_type": "code",
   "execution_count": null,
   "metadata": {
    "collapsed": false
   },
   "outputs": [],
   "source": [
    "obs_list = ObsList()\n",
    "obs_list.append(obs) # Object 1\n",
    "obs_list.append(obs) # Object 2\n",
    "obs_list.append(obs) # Object 3\n",
    "fitter = LMSimple(obs_list, \"exp\")\n",
    "# Now with multiple bands\n",
    "mb_obs_list = MultiBandObsList()\n",
    "mb_obs_list.append(obs_list) #Object list for g\n",
    "mb_obs_list.append(obs_list) #Object list for r\n",
    "mb_obs_list.append(obs_list) #Object list for i\n",
    "mb_obs_list.append(obs_list) #Object list for z\n",
    "fitter = LMSimple(mb_obs_list, \"exp\")"
   ]
  },
  {
   "cell_type": "code",
   "execution_count": null,
   "metadata": {
    "collapsed": true
   },
   "outputs": [],
   "source": []
  }
 ],
 "metadata": {
  "kernelspec": {
   "display_name": "Python 2",
   "language": "python",
   "name": "python2"
  },
  "language_info": {
   "codemirror_mode": {
    "name": "ipython",
    "version": 2
   },
   "file_extension": ".py",
   "mimetype": "text/x-python",
   "name": "python",
   "nbconvert_exporter": "python",
   "pygments_lexer": "ipython2",
   "version": "2.7.12"
  }
 },
 "nbformat": 4,
 "nbformat_minor": 0
}
