{
 "cells": [
  {
   "cell_type": "markdown",
   "metadata": {},
   "source": [
    "# Example using EM\n",
    "Expectation maximization (EM) helps generate the gaussian mixture guesses based on a guess for the size of the object. This assumes that the user already has an Observation. We will start by creating our fake observation from the Basic_fitting notebook."
   ]
  },
  {
   "cell_type": "code",
   "execution_count": 2,
   "metadata": {
    "collapsed": true
   },
   "outputs": [],
   "source": [
    "# This block is copied from Basic_fitting. The comments\n",
    "# are left in, but for additional details see that notebook.\n",
    "# necessary imports\n",
    "import ngmix\n",
    "from ngmix.observation import Observation, ObsList, MultiBandObsList\n",
    "from ngmix.fitting import LMSimple\n",
    "import numpy\n",
    "from numpy import array\n",
    "from numpy.random import uniform as urand\n",
    "# eps is a constant that we need and represents 1% accuracy\n",
    "eps = 0.01\n",
    "# Seed the RNG\n",
    "numpy.random.seed(8381)\n",
    "gal_jacob = ngmix.UnitJacobian(row = 16.0, col = 16.0)\n",
    "psf_jacob = ngmix.UnitJacobian(row = 12.0, col = 12.0)\n",
    "# Object is an exponential disk approximated by gaussians.\n",
    "pars  = [0.0, 0.0, 0.2, -0.1, 16.0, 100.0]\n",
    "gmix0 = ngmix.GMixModel(pars, \"exp\")\n",
    "# PSF is a single gaussian\n",
    "psf_pars = [0.0, 0.0, -0.03, 0.02, 4.0, 1.0]\n",
    "psf_gmix = ngmix.GMixModel(psf_pars, \"gauss\")\n",
    "# Convolve the two\n",
    "gmix = gmix0.convolve(psf_gmix)\n",
    "dimensions = [32, 32]\n",
    "image0 = gmix.make_image(dimensions, npoints=10, jacobian=gal_jacob)\n",
    "psf_dimensions = [24, 24]\n",
    "psf_image = psf_gmix.make_image(psf_dimensions, npoints=10, jacobian=psf_jacob)\n",
    "# Add noise to the galaxy image\n",
    "sigma = 0.01\n",
    "noise = numpy.random.normal(scale = sigma, size = image0.shape)\n",
    "image = image0 + noise\n",
    "# Make an observation of the psf image\n",
    "psf_obs = Observation(psf_image, jacobian=psf_jacob)\n",
    "# We use a 'simple' model fit with 6 parameters.\n",
    "# For simplicity we will guess these parameters before pixelization\n",
    "pfitter = LMSimple(psf_obs, \"gauss\")\n",
    "guess = array(psf_pars)\n",
    "guess[0] += urand(low=-eps, high=eps)\n",
    "guess[1] += urand(low=-eps, high=eps)\n",
    "guess[2] += urand(low=-eps, high=eps)\n",
    "guess[3] += urand(low=-eps, high=eps)\n",
    "guess[4] *= (1.0 + urand(low=-eps, high=eps))\n",
    "guess[5] *= (1.0 + urand(low=-eps, high=eps))\n",
    "# Kick off the fitter and get out the mixture of the fit\n",
    "pfitter.go(guess)\n",
    "psf_gmix_fit = pfitter.get_gmix()\n",
    "# Set the mixture to the observation. This is needed for galaxy fitting later.\n",
    "psf_obs.set_gmix(psf_gmix_fit)\n",
    "weight = numpy.zeros(image.shape) + 1.0/sigma**2\n",
    "obs = Observation(image, weight=weight, jacobian = gal_jacob, psf = psf_obs)\n",
    "# Now we have an object."
   ]
  },
  {
   "cell_type": "code",
   "execution_count": 3,
   "metadata": {
    "collapsed": true
   },
   "outputs": [],
   "source": [
    "# Import the EM runner object\n",
    "from ngmix.bootstrap import EMRunner"
   ]
  },
  {
   "cell_type": "code",
   "execution_count": 4,
   "metadata": {
    "collapsed": true
   },
   "outputs": [],
   "source": [
    "# Define the number of gaussians to fit, the guess of the position,\n",
    "# and the number of times to try with different guesses of T.\n",
    "ngauss = 3\n",
    "Tguess = 4.0\n",
    "ntry   = 5"
   ]
  },
  {
   "cell_type": "code",
   "execution_count": 5,
   "metadata": {
    "collapsed": true
   },
   "outputs": [],
   "source": [
    "# Define the parameters for the runner's fit, and create the runner\n",
    "# object. Then tell it to go and start the fit.\n",
    "em_pars = {\"maxiter\": 1000, \"tol\": 1.0e-6}\n",
    "runner = EMRunner(obs, Tguess, ngauss, em_pars)\n",
    "runner.go(ntry = ntry)"
   ]
  },
  {
   "cell_type": "code",
   "execution_count": 10,
   "metadata": {
    "collapsed": false
   },
   "outputs": [
    {
     "name": "stdout",
     "output_type": "stream",
     "text": [
      "{'flags': 1, 'ntry': 5}\n"
     ]
    }
   ],
   "source": [
    "# Get the fitter from the runner and its result, then print it\n",
    "fitter = runner.get_fitter()\n",
    "result = fitter.get_result()\n",
    "print result"
   ]
  },
  {
   "cell_type": "code",
   "execution_count": 12,
   "metadata": {
    "collapsed": false
   },
   "outputs": [
    {
     "name": "stdout",
     "output_type": "stream",
     "text": [
      "an error occured with flags: 1\n"
     ]
    }
   ],
   "source": [
    "if result[\"flags\"] != 0:\n",
    "    print \"an error occured with flags: %d\"%result['flags']\n",
    "else:\n",
    "\n",
    "    # get a ngmix.GMix object\n",
    "    gmix = runner.get_gmix()\n",
    "\n",
    "    # get the full parametrization as an array.  Note EM does\n",
    "    # not normalize the p values to give the total\n",
    "    # flux\n",
    "    #\n",
    "    # [ p1, row1, col1, irr1, irc1, icc1,\n",
    "    #   p2, row2, col2, irr2, irc2, icc2,\n",
    "    #   p3, row3, col3, irr3, irc3, icc3 ]\n",
    "\n",
    "    pars = gmix.get_full_pars()"
   ]
  },
  {
   "cell_type": "code",
   "execution_count": null,
   "metadata": {
    "collapsed": true
   },
   "outputs": [],
   "source": []
  }
 ],
 "metadata": {
  "kernelspec": {
   "display_name": "Python 2",
   "language": "python",
   "name": "python2"
  },
  "language_info": {
   "codemirror_mode": {
    "name": "ipython",
    "version": 2
   },
   "file_extension": ".py",
   "mimetype": "text/x-python",
   "name": "python",
   "nbconvert_exporter": "python",
   "pygments_lexer": "ipython2",
   "version": "2.7.12"
  }
 },
 "nbformat": 4,
 "nbformat_minor": 0
}
